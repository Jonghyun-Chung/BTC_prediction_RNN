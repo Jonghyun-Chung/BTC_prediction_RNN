{
 "cells": [
  {
   "cell_type": "code",
   "execution_count": 195,
   "id": "previous-maria",
   "metadata": {},
   "outputs": [],
   "source": [
    "import tensorflow as tf\n",
    "import numpy as np\n",
    "import matplotlib\n",
    "import os\n",
    "import pandas as pd\n",
    "from matplotlib import pyplot as plt"
   ]
  },
  {
   "cell_type": "code",
   "execution_count": 209,
   "id": "residential-hormone",
   "metadata": {},
   "outputs": [],
   "source": [
    "df = pd.read_csv('bitcoin_transactions.csv')\n",
    "df = pd.DataFrame (df,columns=['date', 'open', 'high', 'low', 'close', 'volume', 'market_cap'])\n",
    "\n",
    "df['date'] = pd.to_datetime(df['date'], errors='coerce')\n",
    "df['year']= df['date'].dt.year\n",
    "df['month']= df['date'].dt.month\n",
    "df['day']= df['date'].dt.day"
   ]
  },
  {
   "cell_type": "code",
   "execution_count": 210,
   "id": "difficult-niagara",
   "metadata": {},
   "outputs": [
    {
     "data": {
      "text/html": [
       "<div>\n",
       "<style scoped>\n",
       "    .dataframe tbody tr th:only-of-type {\n",
       "        vertical-align: middle;\n",
       "    }\n",
       "\n",
       "    .dataframe tbody tr th {\n",
       "        vertical-align: top;\n",
       "    }\n",
       "\n",
       "    .dataframe thead th {\n",
       "        text-align: right;\n",
       "    }\n",
       "</style>\n",
       "<table border=\"1\" class=\"dataframe\">\n",
       "  <thead>\n",
       "    <tr style=\"text-align: right;\">\n",
       "      <th></th>\n",
       "      <th>open</th>\n",
       "      <th>high</th>\n",
       "      <th>low</th>\n",
       "      <th>close</th>\n",
       "      <th>volume</th>\n",
       "      <th>market_cap</th>\n",
       "      <th>year</th>\n",
       "      <th>month</th>\n",
       "      <th>day</th>\n",
       "    </tr>\n",
       "  </thead>\n",
       "  <tbody>\n",
       "    <tr>\n",
       "      <th>0</th>\n",
       "      <td>434.62</td>\n",
       "      <td>436.06</td>\n",
       "      <td>431.87</td>\n",
       "      <td>433.44</td>\n",
       "      <td>30,096,600</td>\n",
       "      <td>6,517,390,487</td>\n",
       "      <td>2016</td>\n",
       "      <td>1</td>\n",
       "      <td>2</td>\n",
       "    </tr>\n",
       "    <tr>\n",
       "      <th>1</th>\n",
       "      <td>433.58</td>\n",
       "      <td>433.74</td>\n",
       "      <td>424.71</td>\n",
       "      <td>430.01</td>\n",
       "      <td>39,633,800</td>\n",
       "      <td>6,467,429,942</td>\n",
       "      <td>2016</td>\n",
       "      <td>1</td>\n",
       "      <td>3</td>\n",
       "    </tr>\n",
       "    <tr>\n",
       "      <th>2</th>\n",
       "      <td>430.06</td>\n",
       "      <td>434.52</td>\n",
       "      <td>429.08</td>\n",
       "      <td>433.09</td>\n",
       "      <td>38,477,500</td>\n",
       "      <td>6,515,713,340</td>\n",
       "      <td>2016</td>\n",
       "      <td>1</td>\n",
       "      <td>4</td>\n",
       "    </tr>\n",
       "    <tr>\n",
       "      <th>3</th>\n",
       "      <td>433.07</td>\n",
       "      <td>434.18</td>\n",
       "      <td>429.68</td>\n",
       "      <td>431.96</td>\n",
       "      <td>34,522,600</td>\n",
       "      <td>6,500,393,256</td>\n",
       "      <td>2016</td>\n",
       "      <td>1</td>\n",
       "      <td>5</td>\n",
       "    </tr>\n",
       "    <tr>\n",
       "      <th>4</th>\n",
       "      <td>431.86</td>\n",
       "      <td>431.86</td>\n",
       "      <td>426.34</td>\n",
       "      <td>429.11</td>\n",
       "      <td>34,042,500</td>\n",
       "      <td>6,458,942,098</td>\n",
       "      <td>2016</td>\n",
       "      <td>1</td>\n",
       "      <td>6</td>\n",
       "    </tr>\n",
       "    <tr>\n",
       "      <th>...</th>\n",
       "      <td>...</td>\n",
       "      <td>...</td>\n",
       "      <td>...</td>\n",
       "      <td>...</td>\n",
       "      <td>...</td>\n",
       "      <td>...</td>\n",
       "      <td>...</td>\n",
       "      <td>...</td>\n",
       "      <td>...</td>\n",
       "    </tr>\n",
       "    <tr>\n",
       "      <th>1880</th>\n",
       "      <td>48,835.09</td>\n",
       "      <td>51,290.14</td>\n",
       "      <td>47,213.50</td>\n",
       "      <td>49,705.33</td>\n",
       "      <td>63,695,521,388</td>\n",
       "      <td>926,393,090,751</td>\n",
       "      <td>2021</td>\n",
       "      <td>2</td>\n",
       "      <td>24</td>\n",
       "    </tr>\n",
       "    <tr>\n",
       "      <th>1881</th>\n",
       "      <td>49,709.08</td>\n",
       "      <td>51,948.97</td>\n",
       "      <td>47,093.85</td>\n",
       "      <td>47,093.85</td>\n",
       "      <td>54,506,565,949</td>\n",
       "      <td>877,766,126,138</td>\n",
       "      <td>2021</td>\n",
       "      <td>2</td>\n",
       "      <td>25</td>\n",
       "    </tr>\n",
       "    <tr>\n",
       "      <th>1882</th>\n",
       "      <td>47,180.46</td>\n",
       "      <td>48,370.79</td>\n",
       "      <td>44,454.84</td>\n",
       "      <td>46,339.76</td>\n",
       "      <td>350,967,941,479</td>\n",
       "      <td>863,752,275,053</td>\n",
       "      <td>2021</td>\n",
       "      <td>2</td>\n",
       "      <td>26</td>\n",
       "    </tr>\n",
       "    <tr>\n",
       "      <th>1883</th>\n",
       "      <td>46,344.77</td>\n",
       "      <td>48,253.27</td>\n",
       "      <td>45,269.03</td>\n",
       "      <td>46,188.45</td>\n",
       "      <td>45,910,946,382</td>\n",
       "      <td>860,978,135,421</td>\n",
       "      <td>2021</td>\n",
       "      <td>2</td>\n",
       "      <td>27</td>\n",
       "    </tr>\n",
       "    <tr>\n",
       "      <th>1884</th>\n",
       "      <td>46,194.02</td>\n",
       "      <td>46,716.43</td>\n",
       "      <td>43,241.62</td>\n",
       "      <td>45,137.77</td>\n",
       "      <td>53,443,887,451</td>\n",
       "      <td>841,428,977,515</td>\n",
       "      <td>2021</td>\n",
       "      <td>2</td>\n",
       "      <td>28</td>\n",
       "    </tr>\n",
       "  </tbody>\n",
       "</table>\n",
       "<p>1885 rows × 9 columns</p>\n",
       "</div>"
      ],
      "text/plain": [
       "           open       high        low      close           volume  \\\n",
       "0        434.62     436.06     431.87     433.44       30,096,600   \n",
       "1        433.58     433.74     424.71     430.01       39,633,800   \n",
       "2        430.06     434.52     429.08     433.09       38,477,500   \n",
       "3        433.07     434.18     429.68     431.96       34,522,600   \n",
       "4        431.86     431.86     426.34     429.11       34,042,500   \n",
       "...         ...        ...        ...        ...              ...   \n",
       "1880  48,835.09  51,290.14  47,213.50  49,705.33   63,695,521,388   \n",
       "1881  49,709.08  51,948.97  47,093.85  47,093.85   54,506,565,949   \n",
       "1882  47,180.46  48,370.79  44,454.84  46,339.76  350,967,941,479   \n",
       "1883  46,344.77  48,253.27  45,269.03  46,188.45   45,910,946,382   \n",
       "1884  46,194.02  46,716.43  43,241.62  45,137.77   53,443,887,451   \n",
       "\n",
       "           market_cap  year  month  day  \n",
       "0       6,517,390,487  2016      1    2  \n",
       "1       6,467,429,942  2016      1    3  \n",
       "2       6,515,713,340  2016      1    4  \n",
       "3       6,500,393,256  2016      1    5  \n",
       "4       6,458,942,098  2016      1    6  \n",
       "...               ...   ...    ...  ...  \n",
       "1880  926,393,090,751  2021      2   24  \n",
       "1881  877,766,126,138  2021      2   25  \n",
       "1882  863,752,275,053  2021      2   26  \n",
       "1883  860,978,135,421  2021      2   27  \n",
       "1884  841,428,977,515  2021      2   28  \n",
       "\n",
       "[1885 rows x 9 columns]"
      ]
     },
     "execution_count": 210,
     "metadata": {},
     "output_type": "execute_result"
    }
   ],
   "source": [
    "df = df.iloc[::-1].reset_index()\n",
    "df.drop('index', axis = 1).drop('date', axis =1)"
   ]
  },
  {
   "cell_type": "code",
   "execution_count": 211,
   "id": "quarterly-cambodia",
   "metadata": {},
   "outputs": [],
   "source": [
    "df['open']=df['open'].apply(lambda x: x.replace(',',''))\n",
    "df['high']=df['high'].apply(lambda x: x.replace(',',''))\n",
    "df['low']=df['low'].apply(lambda x: x.replace(',',''))\n",
    "df['close']=df['close'].apply(lambda x: x.replace(',',''))\n",
    "df['volume']=df['volume'].apply(lambda x: x.replace(',',''))\n",
    "df['market_cap']=df['market_cap'].apply(lambda x: x.replace(',',''))\n",
    "\n",
    "df['open'] = df['open'].astype(float)\n",
    "df['high'] = df['high'].astype(float)\n",
    "df['low'] = df['low'].astype(float)\n",
    "df['close'] = df['close'].astype(float)\n",
    "df['volume'] = df['volume'].astype(float)\n",
    "df['market_cap'] = df['market_cap'].astype(float)\n"
   ]
  },
  {
   "cell_type": "code",
   "execution_count": 212,
   "id": "official-appointment",
   "metadata": {},
   "outputs": [],
   "source": [
    "days_prediction = 30\n",
    "df_train = df[:len(df) - days_prediction]\n",
    "df_test = df[len(df) - days_prediction:]\n",
    "df_train = df_train.drop('index', axis = 1).drop('date', axis =1)\n",
    "df_test = df_test.drop('index', axis = 1).drop('date', axis =1)\n",
    "\n",
    "# df_test"
   ]
  },
  {
   "cell_type": "code",
   "execution_count": 213,
   "id": "amazing-taste",
   "metadata": {},
   "outputs": [
    {
     "name": "stdout",
     "output_type": "stream",
     "text": [
      "<class 'pandas.core.frame.DataFrame'>\n"
     ]
    }
   ],
   "source": [
    "df_test.head()\n",
    "print(type(df_train))"
   ]
  },
  {
   "cell_type": "code",
   "execution_count": 214,
   "id": "skilled-jungle",
   "metadata": {},
   "outputs": [],
   "source": [
    "from sklearn.preprocessing import MinMaxScaler\n",
    "df_train = df_train.reindex(columns=['open', 'high', 'low', 'volume', 'market_cap', 'year', 'month', 'day', 'close'])"
   ]
  },
  {
   "cell_type": "code",
   "execution_count": 215,
   "id": "adaptive-condition",
   "metadata": {},
   "outputs": [
    {
     "name": "stdout",
     "output_type": "stream",
     "text": [
      "(1855, 9)\n"
     ]
    }
   ],
   "source": [
    "print(train_set.shape)"
   ]
  },
  {
   "cell_type": "code",
   "execution_count": 216,
   "id": "adolescent-office",
   "metadata": {},
   "outputs": [
    {
     "name": "stdout",
     "output_type": "stream",
     "text": [
      "(1855, 1)\n"
     ]
    }
   ],
   "source": [
    "X_train = train_set[:,0:8]\n",
    "scaler_X = MinMaxScaler()\n",
    "X_train = scaler_X.fit_transform(X_train)\n",
    "\n",
    "y_train = train_set[:,-1]\n",
    "y_train = np.reshape(y_train,(len(y_train),1))\n",
    "print(y_train.shape)\n",
    "scaler_y = MinMaxScaler()\n",
    "y_train = scaler_y.fit_transform(y_train)"
   ]
  },
  {
   "cell_type": "code",
   "execution_count": 217,
   "id": "proprietary-carol",
   "metadata": {},
   "outputs": [
    {
     "name": "stdout",
     "output_type": "stream",
     "text": [
      "(1855, 8) (1855, 1)\n"
     ]
    }
   ],
   "source": [
    "print(X_train.shape, y_train.shape)\n",
    "X_train= np.reshape(X_train, (len(X_train), 8, 1))"
   ]
  },
  {
   "cell_type": "code",
   "execution_count": 218,
   "id": "seventh-lover",
   "metadata": {},
   "outputs": [
    {
     "data": {
      "text/plain": [
       "(1855, 8, 1)"
      ]
     },
     "execution_count": 218,
     "metadata": {},
     "output_type": "execute_result"
    }
   ],
   "source": [
    "X_train.shape"
   ]
  },
  {
   "cell_type": "code",
   "execution_count": 219,
   "id": "resistant-navigation",
   "metadata": {},
   "outputs": [
    {
     "name": "stdout",
     "output_type": "stream",
     "text": [
      "(30, 1)\n"
     ]
    }
   ],
   "source": [
    "df_test = df_test.reindex(columns=['open', 'high', 'low', 'volume', 'market_cap', 'year', 'month', 'day', 'close'])\n",
    "X_test = test_set[:,0:8]\n",
    "X_test = scaler_X.fit_transform(X_test)\n",
    "\n",
    "y_test = test_set[:,-1]\n",
    "y_test = np.reshape(y_test,(len(y_test),1))\n",
    "print(y_test.shape)\n",
    "y_test = scaler_y.fit_transform(y_test)\n",
    "\n",
    "X_test= np.reshape(X_test, (len(X_test), 8, 1))"
   ]
  },
  {
   "cell_type": "code",
   "execution_count": 220,
   "id": "exclusive-patrick",
   "metadata": {},
   "outputs": [
    {
     "data": {
      "text/plain": [
       "(30, 8, 1)"
      ]
     },
     "execution_count": 220,
     "metadata": {},
     "output_type": "execute_result"
    }
   ],
   "source": [
    "X_test.shape"
   ]
  },
  {
   "cell_type": "code",
   "execution_count": 221,
   "id": "interim-store",
   "metadata": {},
   "outputs": [],
   "source": [
    "from keras.models import Sequential\n",
    "from keras.layers import Dense\n",
    "from keras.layers import LSTM"
   ]
  },
  {
   "cell_type": "code",
   "execution_count": 240,
   "id": "surgical-essay",
   "metadata": {},
   "outputs": [
    {
     "name": "stdout",
     "output_type": "stream",
     "text": [
      "Epoch 1/100\n",
      "1855/1855 [==============================] - 10s 5ms/step - loss: 0.0073\n",
      "Epoch 2/100\n",
      "1855/1855 [==============================] - 6s 3ms/step - loss: 6.5362e-04\n",
      "Epoch 3/100\n",
      "1855/1855 [==============================] - 6s 3ms/step - loss: 4.8539e-04\n",
      "Epoch 4/100\n",
      "1855/1855 [==============================] - 6s 3ms/step - loss: 4.3264e-04\n",
      "Epoch 5/100\n",
      "1855/1855 [==============================] - 6s 3ms/step - loss: 3.4794e-04\n",
      "Epoch 6/100\n",
      "1855/1855 [==============================] - 6s 3ms/step - loss: 2.4462e-04\n",
      "Epoch 7/100\n",
      "1855/1855 [==============================] - 6s 3ms/step - loss: 2.4174e-04\n",
      "Epoch 8/100\n",
      "1855/1855 [==============================] - 6s 3ms/step - loss: 2.0927e-04\n",
      "Epoch 9/100\n",
      "1855/1855 [==============================] - 6s 3ms/step - loss: 1.7997e-04\n",
      "Epoch 10/100\n",
      "1855/1855 [==============================] - 6s 3ms/step - loss: 1.5242e-04\n",
      "Epoch 11/100\n",
      "1855/1855 [==============================] - 6s 3ms/step - loss: 1.5345e-04\n",
      "Epoch 12/100\n",
      "1855/1855 [==============================] - 6s 3ms/step - loss: 1.7941e-04\n",
      "Epoch 13/100\n",
      "1855/1855 [==============================] - 6s 3ms/step - loss: 1.5096e-04\n",
      "Epoch 14/100\n",
      "1855/1855 [==============================] - 6s 3ms/step - loss: 1.7472e-04\n",
      "Epoch 15/100\n",
      "1855/1855 [==============================] - 6s 3ms/step - loss: 1.5048e-04\n",
      "Epoch 16/100\n",
      "1855/1855 [==============================] - 6s 3ms/step - loss: 1.0494e-04\n",
      "Epoch 17/100\n",
      "1855/1855 [==============================] - 6s 3ms/step - loss: 1.4004e-04\n",
      "Epoch 18/100\n",
      "1855/1855 [==============================] - 6s 3ms/step - loss: 1.2311e-04\n",
      "Epoch 19/100\n",
      "1855/1855 [==============================] - 6s 3ms/step - loss: 1.3682e-04\n",
      "Epoch 20/100\n",
      "1855/1855 [==============================] - 6s 3ms/step - loss: 1.2780e-04\n",
      "Epoch 21/100\n",
      "1855/1855 [==============================] - 6s 3ms/step - loss: 1.0096e-04\n",
      "Epoch 22/100\n",
      "1855/1855 [==============================] - 6s 3ms/step - loss: 1.1316e-04\n",
      "Epoch 23/100\n",
      "1855/1855 [==============================] - 6s 3ms/step - loss: 2.1986e-04\n",
      "Epoch 24/100\n",
      "1855/1855 [==============================] - 6s 3ms/step - loss: 1.0376e-04\n",
      "Epoch 25/100\n",
      "1855/1855 [==============================] - 6s 3ms/step - loss: 1.1076e-04\n",
      "Epoch 26/100\n",
      "1855/1855 [==============================] - 6s 3ms/step - loss: 1.1684e-04\n",
      "Epoch 27/100\n",
      "1855/1855 [==============================] - 6s 3ms/step - loss: 1.1120e-04\n",
      "Epoch 28/100\n",
      "1855/1855 [==============================] - 6s 3ms/step - loss: 1.1858e-04\n",
      "Epoch 29/100\n",
      "1855/1855 [==============================] - 6s 3ms/step - loss: 1.3595e-04\n",
      "Epoch 30/100\n",
      "1855/1855 [==============================] - 6s 3ms/step - loss: 1.1176e-04\n",
      "Epoch 31/100\n",
      "1855/1855 [==============================] - 6s 3ms/step - loss: 1.2169e-04\n",
      "Epoch 32/100\n",
      "1855/1855 [==============================] - 6s 3ms/step - loss: 1.1712e-04\n",
      "Epoch 33/100\n",
      "1855/1855 [==============================] - 6s 3ms/step - loss: 1.1871e-04\n",
      "Epoch 34/100\n",
      "1855/1855 [==============================] - 6s 3ms/step - loss: 9.2237e-05\n",
      "Epoch 35/100\n",
      "1855/1855 [==============================] - 6s 3ms/step - loss: 1.0973e-04\n",
      "Epoch 36/100\n",
      "1855/1855 [==============================] - 6s 3ms/step - loss: 1.1215e-04\n",
      "Epoch 37/100\n",
      "1855/1855 [==============================] - 6s 3ms/step - loss: 1.1980e-04\n",
      "Epoch 38/100\n",
      "1855/1855 [==============================] - 6s 3ms/step - loss: 9.4841e-05\n",
      "Epoch 39/100\n",
      "1855/1855 [==============================] - 6s 3ms/step - loss: 1.2738e-04\n",
      "Epoch 40/100\n",
      "1855/1855 [==============================] - 6s 3ms/step - loss: 1.0402e-04\n",
      "Epoch 41/100\n",
      "1855/1855 [==============================] - 6s 3ms/step - loss: 9.4722e-05\n",
      "Epoch 42/100\n",
      "1855/1855 [==============================] - 6s 3ms/step - loss: 1.1078e-04\n",
      "Epoch 43/100\n",
      "1855/1855 [==============================] - 6s 3ms/step - loss: 9.8730e-05\n",
      "Epoch 44/100\n",
      "1855/1855 [==============================] - 6s 3ms/step - loss: 1.2092e-04\n",
      "Epoch 45/100\n",
      "1855/1855 [==============================] - 6s 3ms/step - loss: 1.3567e-04\n",
      "Epoch 46/100\n",
      "1855/1855 [==============================] - 6s 3ms/step - loss: 1.0162e-04\n",
      "Epoch 47/100\n",
      "1855/1855 [==============================] - 6s 3ms/step - loss: 1.0423e-04\n",
      "Epoch 48/100\n",
      "1855/1855 [==============================] - 6s 3ms/step - loss: 8.7597e-05\n",
      "Epoch 49/100\n",
      "1855/1855 [==============================] - 6s 3ms/step - loss: 1.1610e-04\n",
      "Epoch 50/100\n",
      "1855/1855 [==============================] - 6s 3ms/step - loss: 9.1674e-05\n",
      "Epoch 51/100\n",
      "1855/1855 [==============================] - 6s 3ms/step - loss: 1.0474e-04\n",
      "Epoch 52/100\n",
      "1855/1855 [==============================] - 6s 3ms/step - loss: 8.9306e-05\n",
      "Epoch 53/100\n",
      "1855/1855 [==============================] - 6s 3ms/step - loss: 9.4364e-05\n",
      "Epoch 54/100\n",
      "1855/1855 [==============================] - 6s 3ms/step - loss: 9.5967e-05\n",
      "Epoch 55/100\n",
      "1855/1855 [==============================] - 6s 3ms/step - loss: 1.0243e-04\n",
      "Epoch 56/100\n",
      "1855/1855 [==============================] - 6s 3ms/step - loss: 7.9028e-05\n",
      "Epoch 57/100\n",
      "1855/1855 [==============================] - 6s 3ms/step - loss: 1.0212e-04\n",
      "Epoch 58/100\n",
      "1855/1855 [==============================] - 6s 3ms/step - loss: 1.0368e-04\n",
      "Epoch 59/100\n",
      "1855/1855 [==============================] - 6s 3ms/step - loss: 1.0094e-04\n",
      "Epoch 60/100\n",
      "1855/1855 [==============================] - 6s 3ms/step - loss: 8.3532e-05\n",
      "Epoch 61/100\n",
      "1855/1855 [==============================] - 6s 3ms/step - loss: 9.7881e-05\n",
      "Epoch 62/100\n",
      "1855/1855 [==============================] - 6s 3ms/step - loss: 9.0886e-05\n",
      "Epoch 63/100\n",
      "1855/1855 [==============================] - 6s 3ms/step - loss: 9.6697e-05\n",
      "Epoch 64/100\n",
      "1855/1855 [==============================] - 6s 3ms/step - loss: 1.0994e-04\n",
      "Epoch 65/100\n",
      "1855/1855 [==============================] - 6s 3ms/step - loss: 1.0904e-04\n",
      "Epoch 66/100\n",
      "1855/1855 [==============================] - 6s 3ms/step - loss: 1.1649e-04\n",
      "Epoch 67/100\n",
      "1855/1855 [==============================] - 6s 3ms/step - loss: 9.9494e-05\n",
      "Epoch 68/100\n",
      "1855/1855 [==============================] - 6s 3ms/step - loss: 1.0552e-04\n",
      "Epoch 69/100\n",
      "1855/1855 [==============================] - 6s 3ms/step - loss: 8.7236e-05\n",
      "Epoch 70/100\n",
      "1855/1855 [==============================] - 6s 3ms/step - loss: 1.0177e-04\n",
      "Epoch 71/100\n",
      "1855/1855 [==============================] - 6s 3ms/step - loss: 9.7273e-05\n",
      "Epoch 72/100\n",
      "1855/1855 [==============================] - 6s 3ms/step - loss: 9.1531e-05\n",
      "Epoch 73/100\n",
      "1855/1855 [==============================] - 7s 4ms/step - loss: 1.0039e-04\n",
      "Epoch 74/100\n",
      "1855/1855 [==============================] - 7s 4ms/step - loss: 9.2922e-05\n",
      "Epoch 75/100\n",
      "1855/1855 [==============================] - 7s 4ms/step - loss: 8.1664e-05\n",
      "Epoch 76/100\n",
      "1855/1855 [==============================] - 7s 4ms/step - loss: 8.9934e-05\n",
      "Epoch 77/100\n",
      "1855/1855 [==============================] - 7s 4ms/step - loss: 1.1090e-04\n",
      "Epoch 78/100\n",
      "1855/1855 [==============================] - 7s 4ms/step - loss: 9.6096e-05\n",
      "Epoch 79/100\n",
      "1855/1855 [==============================] - 7s 4ms/step - loss: 9.3086e-05\n",
      "Epoch 80/100\n",
      "1855/1855 [==============================] - 7s 4ms/step - loss: 1.0353e-04\n",
      "Epoch 81/100\n",
      "1855/1855 [==============================] - 7s 4ms/step - loss: 9.4253e-05\n",
      "Epoch 82/100\n",
      "1855/1855 [==============================] - 7s 4ms/step - loss: 7.6605e-05\n",
      "Epoch 83/100\n",
      "1855/1855 [==============================] - 7s 4ms/step - loss: 9.2174e-05\n",
      "Epoch 84/100\n",
      "1855/1855 [==============================] - 6s 3ms/step - loss: 6.9135e-05\n",
      "Epoch 85/100\n",
      "1855/1855 [==============================] - 9s 5ms/step - loss: 1.0156e-04\n",
      "Epoch 86/100\n",
      "1855/1855 [==============================] - 6s 3ms/step - loss: 9.5080e-05\n",
      "Epoch 87/100\n",
      "1855/1855 [==============================] - 6s 3ms/step - loss: 9.2602e-05\n",
      "Epoch 88/100\n",
      "1855/1855 [==============================] - 6s 3ms/step - loss: 8.4207e-05\n",
      "Epoch 89/100\n",
      "1855/1855 [==============================] - 7s 4ms/step - loss: 8.2364e-05\n",
      "Epoch 90/100\n",
      "1855/1855 [==============================] - 7s 4ms/step - loss: 7.9098e-05\n",
      "Epoch 91/100\n",
      "1855/1855 [==============================] - 6s 3ms/step - loss: 1.0965e-04\n",
      "Epoch 92/100\n",
      "1855/1855 [==============================] - 6s 3ms/step - loss: 8.6598e-05\n",
      "Epoch 93/100\n"
     ]
    },
    {
     "name": "stdout",
     "output_type": "stream",
     "text": [
      "1855/1855 [==============================] - 6s 3ms/step - loss: 7.8488e-05\n",
      "Epoch 94/100\n",
      "1855/1855 [==============================] - 6s 3ms/step - loss: 8.4607e-05\n",
      "Epoch 95/100\n",
      "1855/1855 [==============================] - 6s 3ms/step - loss: 9.2567e-05\n",
      "Epoch 96/100\n",
      "1855/1855 [==============================] - 6s 3ms/step - loss: 8.1347e-05\n",
      "Epoch 97/100\n",
      "1855/1855 [==============================] - 6s 3ms/step - loss: 8.1444e-05\n",
      "Epoch 98/100\n",
      "1855/1855 [==============================] - 6s 3ms/step - loss: 9.6124e-05\n",
      "Epoch 99/100\n",
      "1855/1855 [==============================] - 6s 3ms/step - loss: 8.9705e-05\n",
      "Epoch 100/100\n",
      "1855/1855 [==============================] - 6s 3ms/step - loss: 9.8443e-05\n"
     ]
    },
    {
     "data": {
      "text/plain": [
       "<keras.callbacks.callbacks.History at 0x7f997c992b90>"
      ]
     },
     "execution_count": 240,
     "metadata": {},
     "output_type": "execute_result"
    }
   ],
   "source": [
    "from keras.callbacks import EarlyStopping\n",
    "regressor = Sequential()\n",
    "\n",
    "regressor.add(LSTM(units = 10, activation = 'relu', input_shape = (8, 1), return_sequences=True))\n",
    "regressor.add(LSTM(units = 10, activation = 'relu', return_sequences=True))\n",
    "\n",
    "regressor.add(LSTM(8))\n",
    "regressor.add(Dense(5))\n",
    "regressor.add(Dense(1))\n",
    "\n",
    "regressor.compile(optimizer = 'adam', loss = 'mean_squared_error')\n",
    "early_stopping = EarlyStopping(monitor='loss', patience=100, mode='auto')\n",
    "\n",
    "regressor.fit(X_train, y_train, batch_size = 7, epochs = 100, callbacks = [early_stopping])"
   ]
  },
  {
   "cell_type": "code",
   "execution_count": 241,
   "id": "divine-granny",
   "metadata": {},
   "outputs": [
    {
     "name": "stdout",
     "output_type": "stream",
     "text": [
      "[[0.03693544]\n",
      " [0.01778663]\n",
      " [0.0156665 ]\n",
      " [0.04885777]\n",
      " [0.12778509]\n",
      " [0.18274623]\n",
      " [0.17005849]\n",
      " [0.24423254]\n",
      " [0.23505957]\n",
      " [0.3588971 ]\n",
      " [0.5557616 ]\n",
      " [0.5299875 ]\n",
      " [0.5390581 ]\n",
      " [0.5986573 ]\n",
      " [0.5782477 ]\n",
      " [0.6092818 ]\n",
      " [0.6102156 ]\n",
      " [0.63794595]\n",
      " [0.71118146]\n",
      " [0.7489691 ]\n",
      " [0.8124412 ]\n",
      " [0.89105135]\n",
      " [0.9090599 ]\n",
      " [0.87312657]\n",
      " [0.7742502 ]\n",
      " [0.66353744]\n",
      " [0.6820546 ]\n",
      " [0.6038361 ]\n",
      " [0.5519338 ]\n",
      " [0.5038546 ]]\n"
     ]
    }
   ],
   "source": [
    "predicted_BTC_price = regressor.predict(X_test)\n",
    "predicted_BTC_price = predicted_BTC_price.reshape(30,1)\n",
    "\n",
    "predicted_BTC_price = scaler_y.inverse_transform(predicted_BTC_price)\n",
    "print(predicted_BTC_price)"
   ]
  },
  {
   "cell_type": "code",
   "execution_count": 242,
   "id": "convenient-penetration",
   "metadata": {},
   "outputs": [
    {
     "data": {
      "image/png": "[encoded data removed]",
      "text/plain": [
       "<Figure size 432x288 with 1 Axes>"
      ]
     },
     "metadata": {
      "needs_background": "light"
     },
     "output_type": "display_data"
    }
   ],
   "source": [
    "plt.plot(y_test, color = 'red', label = 'Real BTC Value')\n",
    "plt.plot(predicted_BTC_price, color = 'blue', label = 'Predicted BTC Value')\n",
    "plt.title('BTC Value Prediction')\n",
    "plt.xlabel('Days')\n",
    "plt.ylabel('BTC Value')\n",
    "plt.legend()\n",
    "plt.show()"
   ]
  },
  {
   "cell_type": "code",
   "execution_count": null,
   "id": "mineral-attack",
   "metadata": {},
   "outputs": [],
   "source": []
  }
 ],
 "metadata": {
  "kernelspec": {
   "display_name": "Python 3",
   "language": "python",
   "name": "python3"
  },
  "language_info": {
   "codemirror_mode": {
    "name": "ipython",
    "version": 3
   },
   "file_extension": ".py",
   "mimetype": "text/x-python",
   "name": "python",
   "nbconvert_exporter": "python",
   "pygments_lexer": "ipython3",
   "version": "3.7.9"
  }
 },
 "nbformat": 4,
 "nbformat_minor": 5
}
